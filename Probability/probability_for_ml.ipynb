{
 "cells": [
  {
   "cell_type": "markdown",
   "metadata": {},
   "source": [
    "# Probability for ML"
   ]
  },
  {
   "cell_type": "code",
   "execution_count": 1,
   "metadata": {},
   "outputs": [],
   "source": [
    "import matplotlib.pyplot as plt\n",
    "import numpy as np"
   ]
  },
  {
   "cell_type": "markdown",
   "metadata": {},
   "source": [
    "Sources:\n",
    "\n",
    "• Deep Learning (Bishop and Bishop)"
   ]
  },
  {
   "cell_type": "markdown",
   "metadata": {},
   "source": [
    "There are two kinds of uncertainty:\n",
    "\n",
    "1) Epistemic/systematic uncertainity: arises due to lack of information about the system.\n",
    "\n",
    "2) Aleatoric/random uncertainity (noise): \n",
    "\n",
    "(Need defintions here)"
   ]
  },
  {
   "cell_type": "markdown",
   "metadata": {},
   "source": [
    "There are two perspectives on probability:\n",
    "\n",
    "\n",
    "1) Frequentist: probability is the long-run frequency of an event.\n",
    "\n",
    "2) Bayesian: probability is the quantification of uncertainty. (The frequentist case is a special case of the Bayesian case)."
   ]
  },
  {
   "cell_type": "markdown",
   "metadata": {},
   "source": [
    "## Rules of probability\n",
    "\n",
    "For two stochastic variables $X \\in {1, ..., L}$ and $Y \\in {1, ..., M}$. Consider a total of $N$ trials in which $X$ and $Y$ are sampled. Let the number of trials that $X = x_i$ be denotes by $c_i$ and the number of trials that $Y = y_j$ be denotes by $r_j$.\n",
    "\n",
    "The joint probability of $X$ and $Y$ is given by:\n",
    "This can be visualised as a table:\n",
    "\n",
    "#\n",
    "# ![Probability Table](./figures/prob_table.png)\n",
    "# \n"
   ]
  },
  {
   "cell_type": "markdown",
   "metadata": {},
   "source": [
    "The joint probability of $X$ and $Y$ is given by:\n",
    "\n",
    "\\begin{equation}\n",
    "p(X = x_i, Y = y_j) = \\frac{n_{ij}}{N}\n",
    "\\end{equation}\n",
    "\n",
    "(Implicityl considering the limit of $N \\to \\infty$)\n",
    "\n",
    "\\begin{equation}\n",
    "p(X = x_i) = \\frac{c_i}{N}\n",
    "\\end{equation}\n",
    "\n",
    "\\begin{equation}\n",
    "p(Y = y_j) = \\frac{r_j}{N}\n",
    "\\end{equation}\n",
    "\n",
    "Since $\\sum_i c_i = N$, then it can be seen that:\n",
    "\n",
    "\\begin{equation}\n",
    "\\sum_i p(X = x_i) = 1\n",
    "\\end{equation}\n",
    "\n",
    "As the number of instances in column $i$ is the sum of the number of instances in each cell of that column, then $c_i = \\sum_j n_{ij}$ and therefore from the above it follows that:\n",
    "\n",
    "\\begin{equation}\n",
    "\\sum_i p(X = x_i) = \\sum^{M}_{j=1} p(X= x_i, Y = y_j) = 1\n",
    "\\end{equation}\n",
    "\n",
    "This is the sum rule of probability. $p(X = x_i)$ is known asthe marginal probability of $X$.\n",
    "\n",
    "For the instances of $X = x_i$, the fraction of such instances that $Y = y_j$ is written as $p(Y = y_j | X = x_i)$. This is the conditional probability of $Y = y_j$ given $X$. From the diagram, this is the fraction of the $i^{th}$ column that fall in the cell $i, j$ and so is given by:\n",
    "\n",
    "\\begin{equation}\n",
    "p(Y = y_j | X = x_i) = \\frac{n_{ij}}{c_i}\n",
    "\\end{equation}\n",
    "\n",
    "By summing both sides over $j$ and using $\\sum_j n_{ij} = c_i$, it follows that:\n",
    "\n",
    "\\begin{equation}\n",
    "\\sum_j p(Y = y_j | X = x_i) = 1\n",
    "\\end{equation}\n",
    "\n",
    "The following relationship can then be derived:\n",
    "\\begin{equation}\n",
    "p(X = x_i, Y=y_i) = \\frac{n_{ij}}{N} = \\frac{n_{ij}}{c_i} \\cdot \\frac{c_i}{N}\n",
    "\\end{equation}\n",
    "\n",
    "\\begin{equation}\n",
    "= p(Y = y_j | X = x_i)p(X = x_i)\n",
    "\\end{equation}\n",
    "\n",
    "Which is the product rule of probability."
   ]
  },
  {
   "cell_type": "markdown",
   "metadata": {
    "vscode": {
     "languageId": "plaintext"
    }
   },
   "source": [
    "The two rules of probability can be compactly written as:\n",
    "1) Sum rule:\n",
    "\n",
    "\\begin{equation}\n",
    "P(X) = \\sum_{Y} p(X, Y)\n",
    "\\end{equation}\n",
    "\n",
    "2) Product rule:\n",
    "\n",
    "\\begin{equation}\n",
    "p(X, Y) = p(Y|X)p(X)\n",
    "\\end{equation}"
   ]
  },
  {
   "cell_type": "markdown",
   "metadata": {},
   "source": [
    "## Bayes' Theorem\n",
    "\n",
    "From the product rule, and the symmetry property $p(X, Y) = p(Y, X)$, Bayes' theorm can be derived:\n",
    "\n",
    "\\begin{equation}\n",
    "P(Y|X) = \\frac{P(X|Y)P(Y)}{P(X)}\n",
    "\\end{equation}\n",
    "\n",
    "Using the sum rule, the denominator can be written as:\n",
    "\n",
    "\\begin{equation}\n",
    "P(X) = \\sum_{Y} P(X|Y)P(Y)\n",
    "\\end{equation}\n",
    "\n",
    "(i.e. this is a normalisation constant required to ensure that the sum over the conditional probabilty distribution, $p(Y | X)$ is over all possible values of $Y$ is 1).\n",
    "\n",
    "Note: See Bishop pg. 31 for a good example of the application of these formulae and some of the counterintuitive results that can be obtained.\n"
   ]
  },
  {
   "cell_type": "markdown",
   "metadata": {},
   "source": [
    "## Terms in Bayes' Theorem\n",
    "\n",
    "**Prior probability**: probability avaialble before any data is observed - $P(Y)$\n",
    "\n",
    "**Posterior probability**: probability after data is observed - $P(Y|X)$\n",
    "\n",
    "**Likelihood**: probability of the data given the model - $P(X|Y)$\n",
    "\n",
    "**Evidence**: probability of the data - $P(X)$"
   ]
  },
  {
   "cell_type": "markdown",
   "metadata": {},
   "source": [
    "## Independent variables \n",
    "\n",
    "If a joint distribution factorises into the product of two marginal distributions: $p(X, Y)  = p(X)p(Y)$, then $X$ and $Y$ are independent. \n",
    "\n",
    "From the product rule, we have:\n",
    "\n",
    "$p(X, Y) = p(X)p(Y)$\n",
    "\n",
    "$p(X|Y) = p(X)$\n",
    "\n",
    "$p(Y|X) = p(Y)$\n",
    "\n",
    "i.e. the conditional distribution of $X$ given $Y$ is the same as the marginal distribution of $X$ and so is independent of $Y$."
   ]
  },
  {
   "cell_type": "markdown",
   "metadata": {},
   "source": [
    "## Probability densities \n",
    "\n",
    "The formulas above cannot apply directly to continuous variables due to the fact that the probability of a continuous variable taking a specific value, measured to infinite precision, is zero. \n",
    "\n",
    "Instead, probability densities ($p(x)$) are used which are the derivative of a cumulative distribution function, $P(x)$, with respect to $x$:\n",
    "\n",
    "# \n",
    "# ![Cumulative Density Function](./figures/cumulative_density_functions.png)\n",
    "# \n"
   ]
  },
  {
   "cell_type": "markdown",
   "metadata": {},
   "source": [
    "The probability density $p(x)$ over a continuous variable $x$ falling in the interval $(x, s + \\delta x)$ is given by $p(x) \\delta x$ for $\\delta x \\to 0$.\n",
    "\n",
    "The probability of $x$ falling in the interval $(a, b)$ is given by:\n",
    "\n",
    "\\begin{equation}\n",
    "p(x \\in (a,b)) = \\int_a^b p(x) dx\n",
    "\\end{equation}\n",
    "\n",
    "As probabilities are non-negative, and the value of $x$ must lie on the real axis, $p(x)$ must satisfy two conditions:\n",
    "\n",
    "\\begin{equation}\n",
    "p(x) \\geq 0\n",
    "\\end{equation}\n",
    "\n",
    "\\begin{equation}\n",
    "\\int_{-\\infty}^{\\infty} p(x) dx = 1\n",
    "\\end{equation}\n",
    "\n",
    "The probability that $x$ lies in the interval $(-\\infty, z)$ is given by the *cumulative distribution function*:\n",
    "\n",
    "\\begin{equation}\n",
    "P(z) = \\int_{-\\infty}^{z} p(x)dx\n",
    "\\end{equation}\n",
    "\n",
    "Which satisfies $P'(x) = p(x)$\n",
    "\n",
    "*Note: $x$ can be extended from a scalar to a vector $\\textbf{x}$ containing several continuous variables which also obey the above rules. \n",
    "\n",
    "If $\\textbf{x}$ and $\\textbf{y}$ are two vectors of continuous variables, then sum and product rules both still apply:\n",
    "\n",
    "\\begin{equation}\n",
    "p(\\textbf{x}) = \\int p(\\textbf{x}, \\textbf{y})d \\textbf{y}\n",
    "\\end{equation}\n",
    "\n",
    "\\begin{equation}\n",
    "p(\\textbf{x}|\\textbf{y}) = p(\\textbf{y} | \\textbf{x})p(\\textbf{x})\n",
    "\\end{equation}\n",
    "\n",
    "Bayes' theorem can be written in the form:\n",
    "\n",
    "\\begin{equation}\n",
    "p(\\textbf{x} | \\textbf{y}) = \\frac{p(\\textbf{y} | \\textbf{x})p(\\textbf{x})}{\\textbf{p(y)}}\n",
    "\\end{equation}\n",
    "\n",
    "where $p(y) = \\int p(\\textbf{y} | \\textbf{x})p(\\textbf{x})d\\textbf{x}$ is the marginal probability of $\\textbf{y}$ (i.e. the evidence).\n",
    "\n",
    "(Formal justifications require measure theory. However, the validility can be seen by dividing each of the real variables into intervals of width $\\Delta$ and considering discrete probabilty distributions over the intervals Taking the limit as $\\Delta \\to 0$ gives the continuous case.)"
   ]
  },
  {
   "cell_type": "markdown",
   "metadata": {},
   "source": [
    "## Example distributions"
   ]
  },
  {
   "cell_type": "markdown",
   "metadata": {},
   "source": [
    "### Uniform distribution\n",
    "\n",
    "$p(x) = \\frac{1}{b-a}$ for $x \\in (a, b)$, otherwise 0."
   ]
  },
  {
   "cell_type": "code",
   "execution_count": 7,
   "metadata": {},
   "outputs": [
    {
     "data": {
      "image/png": "[encoded data removed]",
      "text/plain": [
       "<Figure size 640x480 with 1 Axes>"
      ]
     },
     "metadata": {},
     "output_type": "display_data"
    }
   ],
   "source": [
    "x = np.zeros(100)\n",
    "x[9:30] = 1\n",
    "\n",
    "plt.plot(x)\n",
    "plt.title('Uniform distribution for $x \\in (10, 30)$')\n",
    "plt.xlabel('x')\n",
    "plt.ylabel('p(x)')\n",
    "plt.show()"
   ]
  },
  {
   "cell_type": "markdown",
   "metadata": {},
   "source": [
    "## Exponential distribution\n",
    "\n",
    "$p(x | \\lambda) = \\lambda e^{-\\lambda x}$ for $x \\geq 0$, otherwise 0."
   ]
  },
  {
   "cell_type": "code",
   "execution_count": 8,
   "metadata": {},
   "outputs": [
    {
     "data": {
      "image/png": "[encoded data removed]",
      "text/plain": [
       "<Figure size 640x480 with 1 Axes>"
      ]
     },
     "metadata": {},
     "output_type": "display_data"
    }
   ],
   "source": [
    "x = np.linspace(0, 100, 100)\n",
    "_lambda = 0.1 \n",
    "\n",
    "p_x = _lambda*np.exp(-_lambda*x)\n",
    "plt.plot(x, p_x)\n",
    "plt.title('Exponential distribution for $\\lambda = 0.1$')\n",
    "plt.xlabel('x')\n",
    "plt.ylabel('p(x)')\n",
    "plt.show()"
   ]
  },
  {
   "cell_type": "markdown",
   "metadata": {},
   "source": [
    "## Laplace distribution\n",
    "\n",
    "The Laplace distribution allows the peak of the exponetial distribution to moved to a location $\\mu$\n",
    "$p( x | \\mu, \\gamma) = \\frac{1}{2 \\gamma}exp(-\\frac{|x - \\mu|}{\\gamma})$"
   ]
  },
  {
   "cell_type": "code",
   "execution_count": 10,
   "metadata": {},
   "outputs": [
    {
     "data": {
      "image/png": "[encoded data removed]",
      "text/plain": [
       "<Figure size 640x480 with 1 Axes>"
      ]
     },
     "metadata": {},
     "output_type": "display_data"
    }
   ],
   "source": [
    "x = np.linspace(-10, 10, 100)\n",
    "\n",
    "mu = 5\n",
    "gamma = 1\n",
    "p_x = 1/(2*gamma) * np.exp(-np.abs(x- mu)/gamma)\n",
    "plt.plot(x, p_x)\n",
    "plt.title('Laplace distribution for $\\mu = 5$ and $\\gamma = 1$')\n",
    "plt.xlabel('x')\n",
    "plt.ylabel('p(x)')\n",
    "plt.show()"
   ]
  },
  {
   "cell_type": "markdown",
   "metadata": {},
   "source": [
    "## Dirac delta function \n",
    "\n",
    "$p(x | \\mu) = \\delta(x - \\mu)$\n",
    "\n",
    "The Dirac delta function is defined to be zero everywhere except for $x = \\mu$ and to have the property of integrating to unity. This is a infinitely tall spike at $x = \\mu$ with unit area. "
   ]
  },
  {
   "cell_type": "markdown",
   "metadata": {},
   "source": [
    "If there is a finite set of observations of $x$ given by $\\mathbb{D} = \\{ x_1, ..., x_N \\}$ then the delta function can be used to construct the empirical distribution of $x$ by:\n",
    "\n",
    "\\begin{equation}\n",
    "p(x | \\mathbb{D}) = \\frac{1}{N} \\sum^{N}_{i=1} \\delta(x - x_n)\n",
    "\\end{equation}\n",
    "\n",
    "i.e. this is a Dirac delta function centred on each of the data points. $ \\int p(x | \\mathbb{D}) dx = 1$ "
   ]
  },
  {
   "cell_type": "markdown",
   "metadata": {},
   "source": [
    "## Expectations and covariances\n",
    "\n",
    "One important operation of using probabilites is to find the weighted average of a function, $f(x)$ which is known as the expectation, $\\mathbb{E}[f(x)]$. For the discrete case:\n",
    "\n",
    "\\begin{equation}\n",
    "E[f(x)] = \\sum_x f(x)p(x)dx\n",
    "\\end{equation}\n",
    "\n",
    "And for the continuous case:\n",
    "\n",
    "\\begin{equation}\n",
    "E[f(x)] = \\int f(x)p(x)dx\n",
    "\\end{equation}\n",
    "\n",
    "In both cases, if a finite number of (N) samples are drawn from the distribution, then the expectation can be approximated as a finite dum over the observations:\n",
    "\n",
    "\\begin{equation}\n",
    "\\mathbb{E}[f(x)] \\approx \\frac{1}{N} \\sum^{N}_{n=1} f(x_i)\n",
    "\\end{equation}\n",
    "\n",
    "which becomes exact in the limit as $N \\to \\infty$.\n",
    "\n",
    "Expectations also apply to multivariate distributions.\n",
    "\n",
    "The **conditional expectation** of $f(x)$ given $y$ is given by:\n",
    "\n",
    "\\begin{equation}\n",
    "\\mathbb{E}[f | y] = \\sum_x p(x|y)f(x)\n",
    "\\end{equation}\n",
    "\n",
    "and for the continuous case:\n",
    "\n",
    "\\begin{equation}\n",
    "\\mathbb{E}[f | y] = \\int p(x|y)f(x)dx\n",
    "\\end{equation}"
   ]
  },
  {
   "cell_type": "markdown",
   "metadata": {},
   "source": [
    "The variance of $f(x)$ is given by:\n",
    "\n",
    "\\begin{equation}\n",
    "Var[f(x)] = \\mathbb{E}[(f(x) - \\mathbb{E}[f(x)])^2]\n",
    "\\end{equation}\n",
    "\n",
    "(Average squared deviation from the mean. It provides a measure of how much $f(x)$ varies about the mean value.)\n",
    "\n",
    "By expanding the square it is possible to show that:\n",
    "\n",
    "\\begin{equation}\n",
    "var[f] = \\mathbb{E}[f^2] - \\mathbb{E}[f]^2\n",
    "\\end{equation}\n",
    "\n",
    "In addition, it is also possible to consider the variance of the variable $x$ itself, which is given by: \n",
    "\n",
    "\\begin{equation}\n",
    "var[x] = \\mathbb{E}[x^2] - \\mathbb{E}[x]^2\n",
    "\\end{equation}"
   ]
  },
  {
   "cell_type": "markdown",
   "metadata": {},
   "source": [
    "For two random variables, the covariance is a measure of how the two variables vary together. It is defined by:\n",
    "\n",
    "\\begin{equation}\n",
    "cov[x,y] = \\mathbb{E}_{x,y}[\\{ x - \\mathbb{E}[x] \\} \\{ y - \\mathbb{E}[y] \\}]\n",
    "\\end{equation}\n",
    "\n",
    "\\begin{equation}\n",
    " = \\mathbb{E}_{x,y}[xy] - \\mathbb{E}[x]\\mathbb{E}[y]\n",
    "\\end{equation}\n",
    "\n",
    "If $x$ and $y$ are independent, then $cov[x,y] = 0$\n",
    "\n",
    "For two vectors $\\textbf{x}$ and $\\textbf{y}$, the covariance matrix is given by:\n",
    "\n",
    "\\begin{equation}\n",
    "cov[\\textbf{x}, \\textbf{y}] = \\mathbb{E}[\\textbf{x}\\textbf{y}^T] - \\mathbb{E}[\\textbf{x}]\\mathbb{E}[\\textbf{y}^T]\n",
    "\\end{equation}\n",
    "\n",
    "For the covariance of a vector $\\textbf{x}$ with itself, the result is written as $cov[\\textbf{x}]$ or $cov[\\textbf{x}, \\textbf{x}]$"
   ]
  }
 ],
 "metadata": {
  "kernelspec": {
   "display_name": ".venv",
   "language": "python",
   "name": "python3"
  },
  "language_info": {
   "codemirror_mode": {
    "name": "ipython",
    "version": 3
   },
   "file_extension": ".py",
   "mimetype": "text/x-python",
   "name": "python",
   "nbconvert_exporter": "python",
   "pygments_lexer": "ipython3",
   "version": "3.11.4"
  }
 },
 "nbformat": 4,
 "nbformat_minor": 2
}
